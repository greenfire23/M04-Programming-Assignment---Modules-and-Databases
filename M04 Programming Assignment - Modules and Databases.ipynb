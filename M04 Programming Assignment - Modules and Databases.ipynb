{
 "cells": [
  {
   "cell_type": "markdown",
   "id": "0e42e3aa",
   "metadata": {},
   "source": [
    "# 11.1"
   ]
  },
  {
   "cell_type": "code",
   "execution_count": 5,
   "id": "195abcbe",
   "metadata": {},
   "outputs": [
    {
     "name": "stdout",
     "output_type": "stream",
     "text": [
      "Writing zoo.py\n"
     ]
    }
   ],
   "source": [
    "%%writefile zoo.py\n",
    "\n",
    "def hours():\n",
    "    print('Open 9-5 daily')"
   ]
  },
  {
   "cell_type": "code",
   "execution_count": 6,
   "id": "048d2c29",
   "metadata": {},
   "outputs": [],
   "source": [
    "import zoo"
   ]
  },
  {
   "cell_type": "code",
   "execution_count": 7,
   "id": "a32c6093",
   "metadata": {},
   "outputs": [
    {
     "name": "stdout",
     "output_type": "stream",
     "text": [
      "Open 9-5 daily\n"
     ]
    }
   ],
   "source": [
    "zoo.hours()"
   ]
  },
  {
   "cell_type": "markdown",
   "id": "bbdd3d8c",
   "metadata": {},
   "source": [
    "# 11.2"
   ]
  },
  {
   "cell_type": "code",
   "execution_count": 9,
   "id": "169b290c",
   "metadata": {},
   "outputs": [],
   "source": [
    "import zoo as menagerie"
   ]
  },
  {
   "cell_type": "code",
   "execution_count": 10,
   "id": "9aac1609",
   "metadata": {},
   "outputs": [
    {
     "name": "stdout",
     "output_type": "stream",
     "text": [
      "Open 9-5 daily\n"
     ]
    }
   ],
   "source": [
    "menagerie.hours()"
   ]
  },
  {
   "cell_type": "markdown",
   "id": "7d08cb99",
   "metadata": {},
   "source": [
    "# 16.8\n"
   ]
  },
  {
   "cell_type": "code",
   "execution_count": 18,
   "id": "f483af9e",
   "metadata": {},
   "outputs": [],
   "source": [
    "import sqlite3\n",
    "\n",
    "conn = sqlite3.connect('books.db')\n",
    "cursor = conn.cursor()\n",
    "\n",
    "cursor.execute('CREATE TABLE books (title TEXT, author TEXT, year INTEGER)')\n",
    "\n",
    "conn.commit()\n"
   ]
  },
  {
   "cell_type": "code",
   "execution_count": 21,
   "id": "15f8f6b9",
   "metadata": {},
   "outputs": [
    {
     "name": "stdout",
     "output_type": "stream",
     "text": [
      "1984\n",
      "The Great Gatsby\n",
      "To Kill a Mockingbird\n"
     ]
    }
   ],
   "source": [
    "from sqlalchemy import create_engine, select, text\n",
    "import sqlite3\n",
    "\n",
    "engine = create_engine('sqlite:///books.db')\n",
    "\n",
    "connection = engine.connect()\n",
    "\n",
    "table_name = 'books'\n",
    "columns = ['title', 'author', 'year']\n",
    "sample_records = [\n",
    "    ('The Great Gatsby', 'F. Scott Fitzgerald', 1925),\n",
    "    ('To Kill a Mockingbird', 'Harper Lee', 1960),\n",
    "    ('1984', 'George Orwell', 1949)\n",
    "]\n",
    "\n",
    "# Insert sample records into the books table\n",
    "for record in sample_records:\n",
    "    connection.execute(f\"INSERT INTO {table_name} ({', '.join(columns)}) VALUES (?, ?, ?)\", record)\n",
    "\n",
    "# Select and print the title column from the book table in alphabetical order\n",
    "stmt = select([text('title')]).select_from(text(table_name)).order_by(text('title'))\n",
    "result = connection.execute(stmt).fetchall()\n",
    "\n",
    "for row in result:\n",
    "    print(row[0])\n"
   ]
  },
  {
   "cell_type": "code",
   "execution_count": 22,
   "id": "95b29ccc",
   "metadata": {},
   "outputs": [
    {
     "name": "stdout",
     "output_type": "stream",
     "text": [
      "1984 - George Orwell\n",
      "The Great Gatsby - F. Scott Fitzgerald\n",
      "To Kill a Mockingbird - Harper Lee\n"
     ]
    }
   ],
   "source": [
    "stmt = select([text('title'), text('author')]).select_from(text(table_name)).order_by(text('title'))\n",
    "result = connection.execute(stmt).fetchall()\n",
    "\n",
    "for row in result:\n",
    "    print(row[0], \"-\", row[1])\n"
   ]
  },
  {
   "cell_type": "code",
   "execution_count": null,
   "id": "50266ff6",
   "metadata": {},
   "outputs": [],
   "source": []
  }
 ],
 "metadata": {
  "kernelspec": {
   "display_name": "Python 3 (ipykernel)",
   "language": "python",
   "name": "python3"
  },
  "language_info": {
   "codemirror_mode": {
    "name": "ipython",
    "version": 3
   },
   "file_extension": ".py",
   "mimetype": "text/x-python",
   "name": "python",
   "nbconvert_exporter": "python",
   "pygments_lexer": "ipython3",
   "version": "3.10.9"
  }
 },
 "nbformat": 4,
 "nbformat_minor": 5
}
